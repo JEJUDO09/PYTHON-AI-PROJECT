{
 "cells": [
  {
   "attachments": {},
   "cell_type": "markdown",
   "metadata": {},
   "source": [
    "# 2회차 과제\n",
    "목표: Python 기초 문법 숙달 (파트 II)"
   ]
  },
  {
   "cell_type": "markdown",
   "metadata": {},
   "source": [
    "## List"
   ]
  },
  {
   "cell_type": "markdown",
   "metadata": {},
   "source": [
    "주어진 list를 각 단계에 맞게 변형하시오. 단, 새로 정의하는 것은 인정하지 않는다.  \n",
    "예: given_list = output_1 (X)"
   ]
  },
  {
   "cell_type": "code",
   "execution_count": null,
   "metadata": {},
   "outputs": [],
   "source": [
    "given_list = [1, 2, [1, 2, 3], [[1, 2, 3,], [1, 2]]]\n",
    "\n",
    "# write your code here\n",
    "\n",
    "target_output_1 = [1, 2, [1, 2, 3], [[1, 2, 3], [1, 2]], 456]\n",
    "\n",
    "# write your code here\n",
    "\n",
    "target_output_2 = [1, 2, [1, 2, 3], 456]\n",
    "\n",
    "# write your code here\n",
    "\n",
    "target_output_3 = [1, 2, [1, 2, 999], 456]\n",
    "\n",
    "# write your code here\n",
    "\n",
    "target_output_4 = [1, 2, [999, 2, 1], 456]"
   ]
  },
  {
   "cell_type": "markdown",
   "metadata": {},
   "source": [
    "## 반복문"
   ]
  },
  {
   "cell_type": "markdown",
   "metadata": {},
   "source": [
    "주어진 튜플의 내용을 순서대로 한 줄에 출력하시오. (개행 없이!)"
   ]
  },
  {
   "cell_type": "code",
   "execution_count": null,
   "metadata": {},
   "outputs": [],
   "source": [
    "given_tuple = (\"이 내용을 \", \"한 줄에 \", \"작성해 \", \"봅시다.\")\n",
    "\n",
    "# write your code here"
   ]
  },
  {
   "cell_type": "markdown",
   "metadata": {},
   "source": [
    "1부터 10까지 출력하되, 3의 배수인 경우 건너 뛰시오."
   ]
  },
  {
   "cell_type": "code",
   "execution_count": null,
   "metadata": {},
   "outputs": [],
   "source": [
    "for i in range(?, ?):\n",
    "    # Fill the blank"
   ]
  },
  {
   "cell_type": "markdown",
   "metadata": {},
   "source": [
    "## Dictionary"
   ]
  },
  {
   "cell_type": "markdown",
   "metadata": {},
   "source": [
    "다음 중 dictionary의 키로 사용할 수 없는 것을 모두 고르시오.  \n",
    "1. 123928.23\n",
    "2. [2]\n",
    "3. \"나는 키가 아니다.\"\n",
    "4. None\n",
    "5. set([1, 2])"
   ]
  },
  {
   "cell_type": "markdown",
   "metadata": {},
   "source": [
    "## 종합"
   ]
  },
  {
   "cell_type": "markdown",
   "metadata": {},
   "source": [
    "다음을 만족하는 클래스를 정의하고 'answer'라는 이름의 객체를 생성하시오:  \n",
    "- 자체적으로 list 하나, dictionary 하나를 멤버 변수로 관리해야 함.\n",
    "    - 이들은 각각 사용자로부터 입력받은 list와 dictionary로 초기화 되어야 함.\n",
    "    - 없다면 각각 비어 있는 상태로 초기화 되어야 함.\n",
    "- 사용자로부터 문자열을 입력받은 뒤 해당 문자열이 멤버 리스트에 몇 개나 있는지 세어 반환하는 메서드가 존재해야 함. 없으면 0 반환.\n",
    "- 사용자로부터 문자열을 입력받은 뒤 해당 문자열이 멤버 딕셔너리의 키인지 확인하고, 있으면 1을, 없으면 0을 반환하는 메서드가 존재해야 함.\n",
    "- 멤버 리스트와 멤버 딕셔너리의 내용을 **순서대로** (즉, 리스트 내용 뒤에 딕셔너리 내용) answer.txt라는 파일에 쓰는 메서드가 존재해야 함.\n",
    "    - (힌트) 출력할 때는 str(리스트_이름) 및 str(딕셔너리_이름)을 활용하면 됨."
   ]
  },
  {
   "cell_type": "code",
   "execution_count": null,
   "metadata": {},
   "outputs": [],
   "source": [
    "class Test():\n",
    "# write your code here"
   ]
  }
 ],
 "metadata": {
  "kernelspec": {
   "display_name": "base",
   "language": "python",
   "name": "python3"
  },
  "language_info": {
   "codemirror_mode": {
    "name": "ipython",
    "version": 3
   },
   "file_extension": ".py",
   "mimetype": "text/x-python",
   "name": "python",
   "nbconvert_exporter": "python",
   "pygments_lexer": "ipython3",
   "version": "3.12.7"
  },
  "orig_nbformat": 4
 },
 "nbformat": 4,
 "nbformat_minor": 2
}
