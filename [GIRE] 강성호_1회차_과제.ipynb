{
 "cells": [
  {
   "attachments": {},
   "cell_type": "markdown",
   "metadata": {},
   "source": [
    "# 1회차 과제\n",
    "목표: Python 기초 문법 숙달 (파트 I)"
   ]
  },
  {
   "cell_type": "markdown",
   "metadata": {},
   "source": [
    "## 변수"
   ]
  },
  {
   "cell_type": "markdown",
   "metadata": {},
   "source": [
    "- 변수 이름으로 잘못된 것을 모두 고르시오.\n",
    "1. thisIsVariable1\n",
    "2. this_is_variable_1\n",
    "3. ThisIsVariable1\n",
    "4. 1st_variable\n",
    "5. this-is-variable-1"
   ]
  },
  {
   "cell_type": "markdown",
   "metadata": {},
   "source": [
    "- 아래 코드를 실행했을 때, print(a)의 출력값은?  \n",
    "a = 300 ** 12 % 2 + 320299  \n",
    "a = str(a)  \n",
    "a = a.lstrip()  \n",
    "a = a.rstrip()  \n",
    "a = \"AS_123\""
   ]
  },
  {
   "cell_type": "markdown",
   "metadata": {},
   "source": [
    "## 기초 입력"
   ]
  },
  {
   "cell_type": "markdown",
   "metadata": {},
   "source": [
    "사용자의 몸무게를 단위 없이 소숫점 둘째 자리까지 입력받고, 이를 실수형(float)으로 저장하시오."
   ]
  },
  {
   "cell_type": "code",
   "execution_count": null,
   "metadata": {},
   "outputs": [],
   "source": [
    "weight = # Fill_this_blank"
   ]
  },
  {
   "cell_type": "markdown",
   "metadata": {},
   "source": [
    "## 종합"
   ]
  },
  {
   "cell_type": "markdown",
   "metadata": {},
   "source": [
    "사용자로부터 임의의 문자열을 입력받고 다음의 동작을 수행하시오:  \n",
    "- 만약 길이가 5 이하이면 \"너무 짧습니다.\"를 출력하시오(따옴표 포함).\n",
    "- 만약 길이가 6 이상 10 이하이면 \"좋습니다. 당신이 입력한 문자열의 길이는 XX입니다.\"를 출력하시오(따옴표 미포함, XX는 실제 문자열 길이로 대체).\n",
    "- 만약 길이가 11 이상이면 아래의 동작을 수행하시오:  \n",
    "    - 사용자로부터 세고 싶은 문자를 입력받고 해당 문자의 개수를 반환하시오."
   ]
  },
  {
   "cell_type": "code",
   "execution_count": null,
   "metadata": {},
   "outputs": [],
   "source": [
    "user_str = input(\"임의의 문자열을 입력해 주세요.\")\n",
    "\n",
    "# write your code here"
   ]
  }
 ],
 "metadata": {
  "kernelspec": {
   "display_name": "Python 3",
   "language": "python",
   "name": "python3"
  },
  "language_info": {
   "codemirror_mode": {
    "name": "ipython",
    "version": 3
   },
   "file_extension": ".py",
   "mimetype": "text/x-python",
   "name": "python",
   "nbconvert_exporter": "python",
   "pygments_lexer": "ipython3",
   "version": "3.12.7"
  },
  "orig_nbformat": 4
 },
 "nbformat": 4,
 "nbformat_minor": 2
}
